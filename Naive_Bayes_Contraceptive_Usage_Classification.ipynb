{
  "nbformat": 4,
  "nbformat_minor": 0,
  "metadata": {
    "colab": {
      "provenance": [],
      "authorship_tag": "ABX9TyMCY/QHpnvtgheBMcT/FQlx",
      "include_colab_link": true
    },
    "kernelspec": {
      "name": "python3",
      "display_name": "Python 3"
    },
    "language_info": {
      "name": "python"
    }
  },
  "cells": [
    {
      "cell_type": "markdown",
      "metadata": {
        "id": "view-in-github",
        "colab_type": "text"
      },
      "source": [
        "<a href=\"https://colab.research.google.com/github/luanbezerra/Projeto-de-Estatistica/blob/main/Naive_Bayes_Contraceptive_Usage_Classification.ipynb\" target=\"_parent\"><img src=\"https://colab.research.google.com/assets/colab-badge.svg\" alt=\"Open In Colab\"/></a>"
      ]
    },
    {
      "cell_type": "markdown",
      "source": [
        "#Leitura de dados"
      ],
      "metadata": {
        "id": "j7fRV3yhI2kR"
      }
    },
    {
      "cell_type": "code",
      "source": [
        "#importando as bibliotecas necessárias\n",
        "import pandas as pd\n",
        "import numpy as np\n",
        "#visualização\n",
        "import seaborn as sns\n",
        "import matplotlib.pyplot as plt\n",
        "#scikit learn\n",
        "from sklearn.model_selection import train_test_split\n",
        "from sklearn.naive_bayes import CategoricalNB\n",
        "from sklearn.metrics import accuracy_score, classification_report, confusion_matrix, ConfusionMatrixDisplay\n",
        "from sklearn.feature_selection import SelectKBest, chi2"
      ],
      "metadata": {
        "id": "vVW1w_6aJftL"
      },
      "execution_count": null,
      "outputs": []
    },
    {
      "cell_type": "code",
      "source": [
        "#leitura do dataset\n",
        "df = pd.read_csv(\"/content/data.csv\")"
      ],
      "metadata": {
        "id": "TPEEC2rGJnXq"
      },
      "execution_count": null,
      "outputs": []
    },
    {
      "cell_type": "code",
      "source": [
        "df.describe()"
      ],
      "metadata": {
        "colab": {
          "base_uri": "https://localhost:8080/",
          "height": 300
        },
        "id": "PYdZMWlVKsvn",
        "outputId": "930d9898-d296-48ca-c323-9459e2515a7b"
      },
      "execution_count": null,
      "outputs": [
        {
          "output_type": "execute_result",
          "data": {
            "text/plain": [
              "          Wife_age  Wife_education  Husband_education  Num_Born_Kids  \\\n",
              "count  1473.000000     1473.000000        1473.000000    1473.000000   \n",
              "mean     32.538357        2.958588           3.429735       3.261371   \n",
              "std       8.227245        1.014994           0.816349       2.358549   \n",
              "min      16.000000        1.000000           1.000000       0.000000   \n",
              "25%      26.000000        2.000000           3.000000       1.000000   \n",
              "50%      32.000000        3.000000           4.000000       3.000000   \n",
              "75%      39.000000        4.000000           4.000000       4.000000   \n",
              "max      49.000000        4.000000           4.000000      16.000000   \n",
              "\n",
              "       Wife_religion  Wife_working  Husband_occupation  Std_Living_idx  \\\n",
              "count    1473.000000   1473.000000         1473.000000     1473.000000   \n",
              "mean        0.850645      0.749491            2.137814        3.133741   \n",
              "std         0.356559      0.433453            0.864857        0.976161   \n",
              "min         0.000000      0.000000            1.000000        1.000000   \n",
              "25%         1.000000      0.000000            1.000000        3.000000   \n",
              "50%         1.000000      1.000000            2.000000        3.000000   \n",
              "75%         1.000000      1.000000            3.000000        4.000000   \n",
              "max         1.000000      1.000000            4.000000        4.000000   \n",
              "\n",
              "       Media_Exposure  Contraceptive_Method  \n",
              "count     1473.000000           1473.000000  \n",
              "mean         0.073999              1.919891  \n",
              "std          0.261858              0.876376  \n",
              "min          0.000000              1.000000  \n",
              "25%          0.000000              1.000000  \n",
              "50%          0.000000              2.000000  \n",
              "75%          0.000000              3.000000  \n",
              "max          1.000000              3.000000  "
            ],
            "text/html": [
              "\n",
              "  <div id=\"df-6c8cab02-93e3-46d1-b382-60b0989ce5c0\" class=\"colab-df-container\">\n",
              "    <div>\n",
              "<style scoped>\n",
              "    .dataframe tbody tr th:only-of-type {\n",
              "        vertical-align: middle;\n",
              "    }\n",
              "\n",
              "    .dataframe tbody tr th {\n",
              "        vertical-align: top;\n",
              "    }\n",
              "\n",
              "    .dataframe thead th {\n",
              "        text-align: right;\n",
              "    }\n",
              "</style>\n",
              "<table border=\"1\" class=\"dataframe\">\n",
              "  <thead>\n",
              "    <tr style=\"text-align: right;\">\n",
              "      <th></th>\n",
              "      <th>Wife_age</th>\n",
              "      <th>Wife_education</th>\n",
              "      <th>Husband_education</th>\n",
              "      <th>Num_Born_Kids</th>\n",
              "      <th>Wife_religion</th>\n",
              "      <th>Wife_working</th>\n",
              "      <th>Husband_occupation</th>\n",
              "      <th>Std_Living_idx</th>\n",
              "      <th>Media_Exposure</th>\n",
              "      <th>Contraceptive_Method</th>\n",
              "    </tr>\n",
              "  </thead>\n",
              "  <tbody>\n",
              "    <tr>\n",
              "      <th>count</th>\n",
              "      <td>1473.000000</td>\n",
              "      <td>1473.000000</td>\n",
              "      <td>1473.000000</td>\n",
              "      <td>1473.000000</td>\n",
              "      <td>1473.000000</td>\n",
              "      <td>1473.000000</td>\n",
              "      <td>1473.000000</td>\n",
              "      <td>1473.000000</td>\n",
              "      <td>1473.000000</td>\n",
              "      <td>1473.000000</td>\n",
              "    </tr>\n",
              "    <tr>\n",
              "      <th>mean</th>\n",
              "      <td>32.538357</td>\n",
              "      <td>2.958588</td>\n",
              "      <td>3.429735</td>\n",
              "      <td>3.261371</td>\n",
              "      <td>0.850645</td>\n",
              "      <td>0.749491</td>\n",
              "      <td>2.137814</td>\n",
              "      <td>3.133741</td>\n",
              "      <td>0.073999</td>\n",
              "      <td>1.919891</td>\n",
              "    </tr>\n",
              "    <tr>\n",
              "      <th>std</th>\n",
              "      <td>8.227245</td>\n",
              "      <td>1.014994</td>\n",
              "      <td>0.816349</td>\n",
              "      <td>2.358549</td>\n",
              "      <td>0.356559</td>\n",
              "      <td>0.433453</td>\n",
              "      <td>0.864857</td>\n",
              "      <td>0.976161</td>\n",
              "      <td>0.261858</td>\n",
              "      <td>0.876376</td>\n",
              "    </tr>\n",
              "    <tr>\n",
              "      <th>min</th>\n",
              "      <td>16.000000</td>\n",
              "      <td>1.000000</td>\n",
              "      <td>1.000000</td>\n",
              "      <td>0.000000</td>\n",
              "      <td>0.000000</td>\n",
              "      <td>0.000000</td>\n",
              "      <td>1.000000</td>\n",
              "      <td>1.000000</td>\n",
              "      <td>0.000000</td>\n",
              "      <td>1.000000</td>\n",
              "    </tr>\n",
              "    <tr>\n",
              "      <th>25%</th>\n",
              "      <td>26.000000</td>\n",
              "      <td>2.000000</td>\n",
              "      <td>3.000000</td>\n",
              "      <td>1.000000</td>\n",
              "      <td>1.000000</td>\n",
              "      <td>0.000000</td>\n",
              "      <td>1.000000</td>\n",
              "      <td>3.000000</td>\n",
              "      <td>0.000000</td>\n",
              "      <td>1.000000</td>\n",
              "    </tr>\n",
              "    <tr>\n",
              "      <th>50%</th>\n",
              "      <td>32.000000</td>\n",
              "      <td>3.000000</td>\n",
              "      <td>4.000000</td>\n",
              "      <td>3.000000</td>\n",
              "      <td>1.000000</td>\n",
              "      <td>1.000000</td>\n",
              "      <td>2.000000</td>\n",
              "      <td>3.000000</td>\n",
              "      <td>0.000000</td>\n",
              "      <td>2.000000</td>\n",
              "    </tr>\n",
              "    <tr>\n",
              "      <th>75%</th>\n",
              "      <td>39.000000</td>\n",
              "      <td>4.000000</td>\n",
              "      <td>4.000000</td>\n",
              "      <td>4.000000</td>\n",
              "      <td>1.000000</td>\n",
              "      <td>1.000000</td>\n",
              "      <td>3.000000</td>\n",
              "      <td>4.000000</td>\n",
              "      <td>0.000000</td>\n",
              "      <td>3.000000</td>\n",
              "    </tr>\n",
              "    <tr>\n",
              "      <th>max</th>\n",
              "      <td>49.000000</td>\n",
              "      <td>4.000000</td>\n",
              "      <td>4.000000</td>\n",
              "      <td>16.000000</td>\n",
              "      <td>1.000000</td>\n",
              "      <td>1.000000</td>\n",
              "      <td>4.000000</td>\n",
              "      <td>4.000000</td>\n",
              "      <td>1.000000</td>\n",
              "      <td>3.000000</td>\n",
              "    </tr>\n",
              "  </tbody>\n",
              "</table>\n",
              "</div>\n",
              "    <div class=\"colab-df-buttons\">\n",
              "\n",
              "  <div class=\"colab-df-container\">\n",
              "    <button class=\"colab-df-convert\" onclick=\"convertToInteractive('df-6c8cab02-93e3-46d1-b382-60b0989ce5c0')\"\n",
              "            title=\"Convert this dataframe to an interactive table.\"\n",
              "            style=\"display:none;\">\n",
              "\n",
              "  <svg xmlns=\"http://www.w3.org/2000/svg\" height=\"24px\" viewBox=\"0 -960 960 960\">\n",
              "    <path d=\"M120-120v-720h720v720H120Zm60-500h600v-160H180v160Zm220 220h160v-160H400v160Zm0 220h160v-160H400v160ZM180-400h160v-160H180v160Zm440 0h160v-160H620v160ZM180-180h160v-160H180v160Zm440 0h160v-160H620v160Z\"/>\n",
              "  </svg>\n",
              "    </button>\n",
              "\n",
              "  <style>\n",
              "    .colab-df-container {\n",
              "      display:flex;\n",
              "      gap: 12px;\n",
              "    }\n",
              "\n",
              "    .colab-df-convert {\n",
              "      background-color: #E8F0FE;\n",
              "      border: none;\n",
              "      border-radius: 50%;\n",
              "      cursor: pointer;\n",
              "      display: none;\n",
              "      fill: #1967D2;\n",
              "      height: 32px;\n",
              "      padding: 0 0 0 0;\n",
              "      width: 32px;\n",
              "    }\n",
              "\n",
              "    .colab-df-convert:hover {\n",
              "      background-color: #E2EBFA;\n",
              "      box-shadow: 0px 1px 2px rgba(60, 64, 67, 0.3), 0px 1px 3px 1px rgba(60, 64, 67, 0.15);\n",
              "      fill: #174EA6;\n",
              "    }\n",
              "\n",
              "    .colab-df-buttons div {\n",
              "      margin-bottom: 4px;\n",
              "    }\n",
              "\n",
              "    [theme=dark] .colab-df-convert {\n",
              "      background-color: #3B4455;\n",
              "      fill: #D2E3FC;\n",
              "    }\n",
              "\n",
              "    [theme=dark] .colab-df-convert:hover {\n",
              "      background-color: #434B5C;\n",
              "      box-shadow: 0px 1px 3px 1px rgba(0, 0, 0, 0.15);\n",
              "      filter: drop-shadow(0px 1px 2px rgba(0, 0, 0, 0.3));\n",
              "      fill: #FFFFFF;\n",
              "    }\n",
              "  </style>\n",
              "\n",
              "    <script>\n",
              "      const buttonEl =\n",
              "        document.querySelector('#df-6c8cab02-93e3-46d1-b382-60b0989ce5c0 button.colab-df-convert');\n",
              "      buttonEl.style.display =\n",
              "        google.colab.kernel.accessAllowed ? 'block' : 'none';\n",
              "\n",
              "      async function convertToInteractive(key) {\n",
              "        const element = document.querySelector('#df-6c8cab02-93e3-46d1-b382-60b0989ce5c0');\n",
              "        const dataTable =\n",
              "          await google.colab.kernel.invokeFunction('convertToInteractive',\n",
              "                                                    [key], {});\n",
              "        if (!dataTable) return;\n",
              "\n",
              "        const docLinkHtml = 'Like what you see? Visit the ' +\n",
              "          '<a target=\"_blank\" href=https://colab.research.google.com/notebooks/data_table.ipynb>data table notebook</a>'\n",
              "          + ' to learn more about interactive tables.';\n",
              "        element.innerHTML = '';\n",
              "        dataTable['output_type'] = 'display_data';\n",
              "        await google.colab.output.renderOutput(dataTable, element);\n",
              "        const docLink = document.createElement('div');\n",
              "        docLink.innerHTML = docLinkHtml;\n",
              "        element.appendChild(docLink);\n",
              "      }\n",
              "    </script>\n",
              "  </div>\n",
              "\n",
              "\n",
              "<div id=\"df-dd6f2d60-c072-409d-bdd9-d3ba16c6d223\">\n",
              "  <button class=\"colab-df-quickchart\" onclick=\"quickchart('df-dd6f2d60-c072-409d-bdd9-d3ba16c6d223')\"\n",
              "            title=\"Suggest charts.\"\n",
              "            style=\"display:none;\">\n",
              "\n",
              "<svg xmlns=\"http://www.w3.org/2000/svg\" height=\"24px\"viewBox=\"0 0 24 24\"\n",
              "     width=\"24px\">\n",
              "    <g>\n",
              "        <path d=\"M19 3H5c-1.1 0-2 .9-2 2v14c0 1.1.9 2 2 2h14c1.1 0 2-.9 2-2V5c0-1.1-.9-2-2-2zM9 17H7v-7h2v7zm4 0h-2V7h2v10zm4 0h-2v-4h2v4z\"/>\n",
              "    </g>\n",
              "</svg>\n",
              "  </button>\n",
              "\n",
              "<style>\n",
              "  .colab-df-quickchart {\n",
              "      --bg-color: #E8F0FE;\n",
              "      --fill-color: #1967D2;\n",
              "      --hover-bg-color: #E2EBFA;\n",
              "      --hover-fill-color: #174EA6;\n",
              "      --disabled-fill-color: #AAA;\n",
              "      --disabled-bg-color: #DDD;\n",
              "  }\n",
              "\n",
              "  [theme=dark] .colab-df-quickchart {\n",
              "      --bg-color: #3B4455;\n",
              "      --fill-color: #D2E3FC;\n",
              "      --hover-bg-color: #434B5C;\n",
              "      --hover-fill-color: #FFFFFF;\n",
              "      --disabled-bg-color: #3B4455;\n",
              "      --disabled-fill-color: #666;\n",
              "  }\n",
              "\n",
              "  .colab-df-quickchart {\n",
              "    background-color: var(--bg-color);\n",
              "    border: none;\n",
              "    border-radius: 50%;\n",
              "    cursor: pointer;\n",
              "    display: none;\n",
              "    fill: var(--fill-color);\n",
              "    height: 32px;\n",
              "    padding: 0;\n",
              "    width: 32px;\n",
              "  }\n",
              "\n",
              "  .colab-df-quickchart:hover {\n",
              "    background-color: var(--hover-bg-color);\n",
              "    box-shadow: 0 1px 2px rgba(60, 64, 67, 0.3), 0 1px 3px 1px rgba(60, 64, 67, 0.15);\n",
              "    fill: var(--button-hover-fill-color);\n",
              "  }\n",
              "\n",
              "  .colab-df-quickchart-complete:disabled,\n",
              "  .colab-df-quickchart-complete:disabled:hover {\n",
              "    background-color: var(--disabled-bg-color);\n",
              "    fill: var(--disabled-fill-color);\n",
              "    box-shadow: none;\n",
              "  }\n",
              "\n",
              "  .colab-df-spinner {\n",
              "    border: 2px solid var(--fill-color);\n",
              "    border-color: transparent;\n",
              "    border-bottom-color: var(--fill-color);\n",
              "    animation:\n",
              "      spin 1s steps(1) infinite;\n",
              "  }\n",
              "\n",
              "  @keyframes spin {\n",
              "    0% {\n",
              "      border-color: transparent;\n",
              "      border-bottom-color: var(--fill-color);\n",
              "      border-left-color: var(--fill-color);\n",
              "    }\n",
              "    20% {\n",
              "      border-color: transparent;\n",
              "      border-left-color: var(--fill-color);\n",
              "      border-top-color: var(--fill-color);\n",
              "    }\n",
              "    30% {\n",
              "      border-color: transparent;\n",
              "      border-left-color: var(--fill-color);\n",
              "      border-top-color: var(--fill-color);\n",
              "      border-right-color: var(--fill-color);\n",
              "    }\n",
              "    40% {\n",
              "      border-color: transparent;\n",
              "      border-right-color: var(--fill-color);\n",
              "      border-top-color: var(--fill-color);\n",
              "    }\n",
              "    60% {\n",
              "      border-color: transparent;\n",
              "      border-right-color: var(--fill-color);\n",
              "    }\n",
              "    80% {\n",
              "      border-color: transparent;\n",
              "      border-right-color: var(--fill-color);\n",
              "      border-bottom-color: var(--fill-color);\n",
              "    }\n",
              "    90% {\n",
              "      border-color: transparent;\n",
              "      border-bottom-color: var(--fill-color);\n",
              "    }\n",
              "  }\n",
              "</style>\n",
              "\n",
              "  <script>\n",
              "    async function quickchart(key) {\n",
              "      const quickchartButtonEl =\n",
              "        document.querySelector('#' + key + ' button');\n",
              "      quickchartButtonEl.disabled = true;  // To prevent multiple clicks.\n",
              "      quickchartButtonEl.classList.add('colab-df-spinner');\n",
              "      try {\n",
              "        const charts = await google.colab.kernel.invokeFunction(\n",
              "            'suggestCharts', [key], {});\n",
              "      } catch (error) {\n",
              "        console.error('Error during call to suggestCharts:', error);\n",
              "      }\n",
              "      quickchartButtonEl.classList.remove('colab-df-spinner');\n",
              "      quickchartButtonEl.classList.add('colab-df-quickchart-complete');\n",
              "    }\n",
              "    (() => {\n",
              "      let quickchartButtonEl =\n",
              "        document.querySelector('#df-dd6f2d60-c072-409d-bdd9-d3ba16c6d223 button');\n",
              "      quickchartButtonEl.style.display =\n",
              "        google.colab.kernel.accessAllowed ? 'block' : 'none';\n",
              "    })();\n",
              "  </script>\n",
              "</div>\n",
              "    </div>\n",
              "  </div>\n"
            ]
          },
          "metadata": {},
          "execution_count": 36
        }
      ]
    },
    {
      "cell_type": "markdown",
      "source": [
        "#EDA\n"
      ],
      "metadata": {
        "id": "NJcU6SKAJ6vj"
      }
    },
    {
      "cell_type": "code",
      "source": [
        "#verificando se o dataset está balanceado\n",
        "sns.countplot(x = df[\"Contraceptive_Method\"])"
      ],
      "metadata": {
        "colab": {
          "base_uri": "https://localhost:8080/",
          "height": 467
        },
        "id": "1owDFjnSKGNc",
        "outputId": "fed84ca6-57ea-4d73-fdff-f557372ec8dd"
      },
      "execution_count": null,
      "outputs": [
        {
          "output_type": "execute_result",
          "data": {
            "text/plain": [
              "<Axes: xlabel='Contraceptive_Method', ylabel='count'>"
            ]
          },
          "metadata": {},
          "execution_count": 283
        },
        {
          "output_type": "display_data",
          "data": {
            "text/plain": [
              "<Figure size 640x480 with 1 Axes>"
            ],
            "image/png": "[encoded data removed]"
          },
          "metadata": {}
        }
      ]
    },
    {
      "cell_type": "markdown",
      "source": [
        "Como podemos ver, está balanceado"
      ],
      "metadata": {
        "id": "FdjgYQj8KYAN"
      }
    },
    {
      "cell_type": "code",
      "source": [
        "#agora vamos checkar se temos algum valor faltando para correção\n",
        "df.info()"
      ],
      "metadata": {
        "colab": {
          "base_uri": "https://localhost:8080/"
        },
        "id": "Lw1SL_uUKY26",
        "outputId": "868cddea-2489-4b12-8cf5-98e2b680b3c2"
      },
      "execution_count": null,
      "outputs": [
        {
          "output_type": "stream",
          "name": "stdout",
          "text": [
            "<class 'pandas.core.frame.DataFrame'>\n",
            "RangeIndex: 1473 entries, 0 to 1472\n",
            "Data columns (total 10 columns):\n",
            " #   Column                Non-Null Count  Dtype\n",
            "---  ------                --------------  -----\n",
            " 0   Wife_age              1473 non-null   int64\n",
            " 1   Wife_education        1473 non-null   int64\n",
            " 2   Husband_education     1473 non-null   int64\n",
            " 3   Num_Born_Kids         1473 non-null   int64\n",
            " 4   Wife_religion         1473 non-null   int64\n",
            " 5   Wife_working          1473 non-null   int64\n",
            " 6   Husband_occupation    1473 non-null   int64\n",
            " 7   Std_Living_idx        1473 non-null   int64\n",
            " 8   Media_Exposure        1473 non-null   int64\n",
            " 9   Contraceptive_Method  1473 non-null   int64\n",
            "dtypes: int64(10)\n",
            "memory usage: 115.2 KB\n"
          ]
        }
      ]
    },
    {
      "cell_type": "markdown",
      "source": [
        "Podemos ver que todas as features possuem 1473 valores não nulos, ou seja, todos estão preenchidos.\n",
        "\n",
        "Também podemos verificar contando quantos nulos cada coluna tem, sendo 0"
      ],
      "metadata": {
        "id": "AN1mKy2JLH1Z"
      }
    },
    {
      "cell_type": "code",
      "source": [
        "df.isnull().sum()"
      ],
      "metadata": {
        "colab": {
          "base_uri": "https://localhost:8080/"
        },
        "id": "p9ieJY6GLV7D",
        "outputId": "933d80d4-1d1f-4298-abaf-defd89d4e6b8"
      },
      "execution_count": null,
      "outputs": [
        {
          "output_type": "execute_result",
          "data": {
            "text/plain": [
              "Wife_age                0\n",
              "Wife_education          0\n",
              "Husband_education       0\n",
              "Num_Born_Kids           0\n",
              "Wife_religion           0\n",
              "Wife_working            0\n",
              "Husband_occupation      0\n",
              "Std_Living_idx          0\n",
              "Media_Exposure          0\n",
              "Contraceptive_Method    0\n",
              "dtype: int64"
            ]
          },
          "metadata": {},
          "execution_count": 284
        }
      ]
    },
    {
      "cell_type": "markdown",
      "source": [
        "Agora faremos uma análise das variáveis relevantes para a escolha do método contraceptivo"
      ],
      "metadata": {
        "id": "sSwy21b9kVDU"
      }
    },
    {
      "cell_type": "code",
      "source": [
        "#separando a variavel target do resto\n",
        "y = df[\"Contraceptive_Method\"]\n",
        "X = df.drop(\"Contraceptive_Method\", axis = 1)"
      ],
      "metadata": {
        "id": "wOYCb3WjDX_R"
      },
      "execution_count": null,
      "outputs": []
    },
    {
      "cell_type": "code",
      "source": [
        "#aplicando a técnica do qui quadrado para identificar as melhores features\n",
        "bestfeatures = SelectKBest(score_func=chi2, k=9)\n",
        "fit = bestfeatures.fit(X,y)\n",
        "dfscores = pd.DataFrame(fit.scores_)\n",
        "dfcolumns = pd.DataFrame(X.columns)\n",
        "#juntando nossas informações\n",
        "featureScores = pd.concat([dfcolumns,dfscores],axis=1)\n",
        "featureScores.columns = ['Specs','Score']\n",
        "print(featureScores.nlargest(9,'Score'))"
      ],
      "metadata": {
        "colab": {
          "base_uri": "https://localhost:8080/"
        },
        "id": "e0gQy31LDneR",
        "outputId": "f22007ec-1de3-4fe3-f6e1-be46f2543368"
      },
      "execution_count": null,
      "outputs": [
        {
          "output_type": "stream",
          "name": "stdout",
          "text": [
            "                Specs       Score\n",
            "0            Wife_age  132.680281\n",
            "1      Wife_education   45.646138\n",
            "3       Num_Born_Kids   45.128054\n",
            "8      Media_Exposure   29.235977\n",
            "7      Std_Living_idx   18.399817\n",
            "6  Husband_occupation   18.136128\n",
            "2   Husband_education    9.483911\n",
            "4       Wife_religion    3.229343\n",
            "5        Wife_working    1.299431\n"
          ]
        }
      ]
    },
    {
      "cell_type": "markdown",
      "source": [
        "Como há uma grande diferença entre a relevância dos 4 primeiros atributos para os demais, ficaremos os os 4 primeiros\n",
        "\n",
        "---\n",
        "\n"
      ],
      "metadata": {
        "id": "L1leCc0iHIIh"
      }
    },
    {
      "cell_type": "code",
      "source": [
        "columns_to_keep = ['Wife_age', 'Num_Born_Kids', 'Wife_education', 'Media_Exposure']\n",
        "X = X[columns_to_keep]"
      ],
      "metadata": {
        "id": "gT0w1QUUR3gC"
      },
      "execution_count": null,
      "outputs": []
    },
    {
      "cell_type": "code",
      "source": [
        "#plotando o método escolhido pela idade da mulher\n",
        "plt.figure(figsize=(14,6))\n",
        "sns.countplot(x='Wife_age',data=df,hue=\"Contraceptive_Method\")"
      ],
      "metadata": {
        "colab": {
          "base_uri": "https://localhost:8080/",
          "height": 559
        },
        "id": "MtA--TeZkbZ2",
        "outputId": "5c457ed8-db35-4478-95bb-c9aae55c7312"
      },
      "execution_count": null,
      "outputs": [
        {
          "output_type": "execute_result",
          "data": {
            "text/plain": [
              "<Axes: xlabel='Wife_age', ylabel='count'>"
            ]
          },
          "metadata": {},
          "execution_count": 307
        },
        {
          "output_type": "display_data",
          "data": {
            "text/plain": [
              "<Figure size 1400x600 with 1 Axes>"
            ],
            "image/png": "[encoded data removed]"
          },
          "metadata": {}
        }
      ]
    },
    {
      "cell_type": "code",
      "source": [
        "#plotando o método escolhido pelo grau de educação da esposa\n",
        "plt.figure(figsize=(14,6))\n",
        "sns.countplot(x='Wife_education',data=df,hue=\"Contraceptive_Method\")"
      ],
      "metadata": {
        "colab": {
          "base_uri": "https://localhost:8080/",
          "height": 559
        },
        "id": "NxvvheTvltMk",
        "outputId": "2c6390b2-8b03-4afd-ad70-c04879cdf47b"
      },
      "execution_count": null,
      "outputs": [
        {
          "output_type": "execute_result",
          "data": {
            "text/plain": [
              "<Axes: xlabel='Wife_education', ylabel='count'>"
            ]
          },
          "metadata": {},
          "execution_count": 288
        },
        {
          "output_type": "display_data",
          "data": {
            "text/plain": [
              "<Figure size 1400x600 with 1 Axes>"
            ],
            "image/png": "[encoded data removed]"
          },
          "metadata": {}
        }
      ]
    },
    {
      "cell_type": "code",
      "source": [
        "#plotando o método escolhido pelo número de filhos\n",
        "plt.figure(figsize=(14,6))\n",
        "sns.countplot(x='Num_Born_Kids',data=df,hue=\"Contraceptive_Method\")"
      ],
      "metadata": {
        "colab": {
          "base_uri": "https://localhost:8080/",
          "height": 559
        },
        "id": "Eq0DZs5qmEaF",
        "outputId": "227f99b7-7e0e-4acf-defc-bfccfcc40e8d"
      },
      "execution_count": null,
      "outputs": [
        {
          "output_type": "execute_result",
          "data": {
            "text/plain": [
              "<Axes: xlabel='Num_Born_Kids', ylabel='count'>"
            ]
          },
          "metadata": {},
          "execution_count": 289
        },
        {
          "output_type": "display_data",
          "data": {
            "text/plain": [
              "<Figure size 1400x600 with 1 Axes>"
            ],
            "image/png": "[encoded data removed]"
          },
          "metadata": {}
        }
      ]
    },
    {
      "cell_type": "code",
      "source": [
        "#plotando o método escolhido pela exposição à mídia\n",
        "plt.figure(figsize=(14,6))\n",
        "sns.countplot(x='Media_Exposure',data=df,hue=\"Contraceptive_Method\")"
      ],
      "metadata": {
        "colab": {
          "base_uri": "https://localhost:8080/",
          "height": 559
        },
        "id": "4cx8E_5nWQIO",
        "outputId": "293e7d0f-317f-4201-e6da-ef52f1ebd394"
      },
      "execution_count": null,
      "outputs": [
        {
          "output_type": "execute_result",
          "data": {
            "text/plain": [
              "<Axes: xlabel='Media_Exposure', ylabel='count'>"
            ]
          },
          "metadata": {},
          "execution_count": 290
        },
        {
          "output_type": "display_data",
          "data": {
            "text/plain": [
              "<Figure size 1400x600 with 1 Axes>"
            ],
            "image/png": "[encoded data removed]"
          },
          "metadata": {}
        }
      ]
    },
    {
      "cell_type": "markdown",
      "source": [
        "#Feature Engineering"
      ],
      "metadata": {
        "id": "olXHWZexLsDB"
      }
    },
    {
      "cell_type": "markdown",
      "source": [
        "Agora vamos transformar nossos dados contínuos em categóricos para aplicarmos o Categorical Naive Bayes"
      ],
      "metadata": {
        "id": "NZpj9fLkjkft"
      }
    },
    {
      "cell_type": "code",
      "source": [
        "#categorizando a idade em 3 faixas etárias\n",
        "for i in range(1473):\n",
        "  if X.Wife_age[i] >= 16 and X.Wife_age[i] < 27 :\n",
        "    X.Wife_age[i] = 1\n",
        "  elif X.Wife_age[i] >= 27 and X.Wife_age[i] < 38 :\n",
        "    X.Wife_age[i] = 2\n",
        "  else:\n",
        "    X.Wife_age[i] = 3"
      ],
      "metadata": {
        "id": "yBGd92XOIyH5"
      },
      "execution_count": null,
      "outputs": []
    },
    {
      "cell_type": "code",
      "source": [
        "#categorizando o numero de filhos em 0, 1, 2, 3 e 4 ou mais\n",
        "for i in range(1473):\n",
        "  if X.Num_Born_Kids[i] >= 4:\n",
        "    X.Num_Born_Kids[i] = 5\n",
        "  else:\n",
        "    X.Num_Born_Kids[i] +=1"
      ],
      "metadata": {
        "id": "052zKGo3M1Wt"
      },
      "execution_count": null,
      "outputs": []
    },
    {
      "cell_type": "markdown",
      "source": [
        "#Aplicação do Naive Bayes"
      ],
      "metadata": {
        "id": "AXOyn3d0Iepi"
      }
    },
    {
      "cell_type": "code",
      "source": [
        "#Separando o dataset em treinamento e teste\n",
        "X_train, X_test, y_train, y_test = train_test_split(X, y, test_size = 0.2, random_state=None)"
      ],
      "metadata": {
        "id": "CCkO3RxeSNLE"
      },
      "execution_count": null,
      "outputs": []
    },
    {
      "cell_type": "code",
      "source": [
        "#Treinando o algoritmo\n",
        "clf = CategoricalNB()\n",
        "clf.fit(X_train, y_train)"
      ],
      "metadata": {
        "colab": {
          "base_uri": "https://localhost:8080/",
          "height": 75
        },
        "id": "ZAvPY1jrViHi",
        "outputId": "e7f5dac5-d180-4c28-cb83-d95989bfec09"
      },
      "execution_count": null,
      "outputs": [
        {
          "output_type": "execute_result",
          "data": {
            "text/plain": [
              "CategoricalNB()"
            ],
            "text/html": [
              "<style>#sk-container-id-66 {color: black;background-color: white;}#sk-container-id-66 pre{padding: 0;}#sk-container-id-66 div.sk-toggleable {background-color: white;}#sk-container-id-66 label.sk-toggleable__label {cursor: pointer;display: block;width: 100%;margin-bottom: 0;padding: 0.3em;box-sizing: border-box;text-align: center;}#sk-container-id-66 label.sk-toggleable__label-arrow:before {content: \"▸\";float: left;margin-right: 0.25em;color: #696969;}#sk-container-id-66 label.sk-toggleable__label-arrow:hover:before {color: black;}#sk-container-id-66 div.sk-estimator:hover label.sk-toggleable__label-arrow:before {color: black;}#sk-container-id-66 div.sk-toggleable__content {max-height: 0;max-width: 0;overflow: hidden;text-align: left;background-color: #f0f8ff;}#sk-container-id-66 div.sk-toggleable__content pre {margin: 0.2em;color: black;border-radius: 0.25em;background-color: #f0f8ff;}#sk-container-id-66 input.sk-toggleable__control:checked~div.sk-toggleable__content {max-height: 200px;max-width: 100%;overflow: auto;}#sk-container-id-66 input.sk-toggleable__control:checked~label.sk-toggleable__label-arrow:before {content: \"▾\";}#sk-container-id-66 div.sk-estimator input.sk-toggleable__control:checked~label.sk-toggleable__label {background-color: #d4ebff;}#sk-container-id-66 div.sk-label input.sk-toggleable__control:checked~label.sk-toggleable__label {background-color: #d4ebff;}#sk-container-id-66 input.sk-hidden--visually {border: 0;clip: rect(1px 1px 1px 1px);clip: rect(1px, 1px, 1px, 1px);height: 1px;margin: -1px;overflow: hidden;padding: 0;position: absolute;width: 1px;}#sk-container-id-66 div.sk-estimator {font-family: monospace;background-color: #f0f8ff;border: 1px dotted black;border-radius: 0.25em;box-sizing: border-box;margin-bottom: 0.5em;}#sk-container-id-66 div.sk-estimator:hover {background-color: #d4ebff;}#sk-container-id-66 div.sk-parallel-item::after {content: \"\";width: 100%;border-bottom: 1px solid gray;flex-grow: 1;}#sk-container-id-66 div.sk-label:hover label.sk-toggleable__label {background-color: #d4ebff;}#sk-container-id-66 div.sk-serial::before {content: \"\";position: absolute;border-left: 1px solid gray;box-sizing: border-box;top: 0;bottom: 0;left: 50%;z-index: 0;}#sk-container-id-66 div.sk-serial {display: flex;flex-direction: column;align-items: center;background-color: white;padding-right: 0.2em;padding-left: 0.2em;position: relative;}#sk-container-id-66 div.sk-item {position: relative;z-index: 1;}#sk-container-id-66 div.sk-parallel {display: flex;align-items: stretch;justify-content: center;background-color: white;position: relative;}#sk-container-id-66 div.sk-item::before, #sk-container-id-66 div.sk-parallel-item::before {content: \"\";position: absolute;border-left: 1px solid gray;box-sizing: border-box;top: 0;bottom: 0;left: 50%;z-index: -1;}#sk-container-id-66 div.sk-parallel-item {display: flex;flex-direction: column;z-index: 1;position: relative;background-color: white;}#sk-container-id-66 div.sk-parallel-item:first-child::after {align-self: flex-end;width: 50%;}#sk-container-id-66 div.sk-parallel-item:last-child::after {align-self: flex-start;width: 50%;}#sk-container-id-66 div.sk-parallel-item:only-child::after {width: 0;}#sk-container-id-66 div.sk-dashed-wrapped {border: 1px dashed gray;margin: 0 0.4em 0.5em 0.4em;box-sizing: border-box;padding-bottom: 0.4em;background-color: white;}#sk-container-id-66 div.sk-label label {font-family: monospace;font-weight: bold;display: inline-block;line-height: 1.2em;}#sk-container-id-66 div.sk-label-container {text-align: center;}#sk-container-id-66 div.sk-container {/* jupyter's `normalize.less` sets `[hidden] { display: none; }` but bootstrap.min.css set `[hidden] { display: none !important; }` so we also need the `!important` here to be able to override the default hidden behavior on the sphinx rendered scikit-learn.org. See: https://github.com/scikit-learn/scikit-learn/issues/21755 */display: inline-block !important;position: relative;}#sk-container-id-66 div.sk-text-repr-fallback {display: none;}</style><div id=\"sk-container-id-66\" class=\"sk-top-container\"><div class=\"sk-text-repr-fallback\"><pre>CategoricalNB()</pre><b>In a Jupyter environment, please rerun this cell to show the HTML representation or trust the notebook. <br />On GitHub, the HTML representation is unable to render, please try loading this page with nbviewer.org.</b></div><div class=\"sk-container\" hidden><div class=\"sk-item\"><div class=\"sk-estimator sk-toggleable\"><input class=\"sk-toggleable__control sk-hidden--visually\" id=\"sk-estimator-id-66\" type=\"checkbox\" checked><label for=\"sk-estimator-id-66\" class=\"sk-toggleable__label sk-toggleable__label-arrow\">CategoricalNB</label><div class=\"sk-toggleable__content\"><pre>CategoricalNB()</pre></div></div></div></div></div>"
            ]
          },
          "metadata": {},
          "execution_count": 336
        }
      ]
    },
    {
      "cell_type": "code",
      "source": [
        "#Realizando o teste\n",
        "y_pred = clf.predict(X_test)"
      ],
      "metadata": {
        "id": "VbUR_2erVtg7"
      },
      "execution_count": null,
      "outputs": []
    },
    {
      "cell_type": "markdown",
      "source": [
        "#Resultados"
      ],
      "metadata": {
        "id": "w66hAYXUL9ov"
      }
    },
    {
      "cell_type": "code",
      "source": [
        "accuracy = accuracy_score(y_test, y_pred)\n",
        "classification_rep = classification_report(y_test, y_pred)\n",
        "print(f\"Accuracy: {accuracy}\")\n",
        "print(f\"Classification Report:\\n{classification_rep}\")"
      ],
      "metadata": {
        "colab": {
          "base_uri": "https://localhost:8080/"
        },
        "id": "i2iHulDyVtfn",
        "outputId": "54abe9c1-c424-4ff2-e520-d15f68775e75"
      },
      "execution_count": null,
      "outputs": [
        {
          "output_type": "stream",
          "name": "stdout",
          "text": [
            "Accuracy: 0.5728813559322034\n",
            "Classification Report:\n",
            "              precision    recall  f1-score   support\n",
            "\n",
            "           1       0.69      0.64      0.66       132\n",
            "           2       0.55      0.36      0.43        64\n",
            "           3       0.47      0.63      0.54        99\n",
            "\n",
            "    accuracy                           0.57       295\n",
            "   macro avg       0.57      0.54      0.54       295\n",
            "weighted avg       0.59      0.57      0.57       295\n",
            "\n"
          ]
        }
      ]
    },
    {
      "cell_type": "code",
      "source": [
        "labels = [1,2,3]\n",
        "cm = confusion_matrix(y_test, y_pred, labels=labels)\n",
        "disp = ConfusionMatrixDisplay(confusion_matrix=cm, display_labels=labels)\n",
        "disp.plot();"
      ],
      "metadata": {
        "colab": {
          "base_uri": "https://localhost:8080/",
          "height": 449
        },
        "id": "UyXXXH9Agg5j",
        "outputId": "62a10885-3f51-4797-989a-8b576514b542"
      },
      "execution_count": null,
      "outputs": [
        {
          "output_type": "display_data",
          "data": {
            "text/plain": [
              "<Figure size 640x480 with 2 Axes>"
            ],
            "image/png": "[encoded data removed]"
          },
          "metadata": {}
        }
      ]
    }
  ]
}